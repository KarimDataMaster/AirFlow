{
  "nbformat": 4,
  "nbformat_minor": 0,
  "metadata": {
    "colab": {
      "provenance": [],
      "include_colab_link": true
    },
    "kernelspec": {
      "name": "python3",
      "display_name": "Python 3"
    },
    "language_info": {
      "name": "python"
    }
  },
  "cells": [
    {
      "cell_type": "markdown",
      "metadata": {
        "id": "view-in-github",
        "colab_type": "text"
      },
      "source": [
        "<a href=\"https://colab.research.google.com/github/KarimDataMaster/AirFlow/blob/main/%D0%9F%D1%80%D0%B0%D0%BA%D1%82%D0%B8%D0%BA%D0%B0_%D0%9F%D0%B8%D1%88%D0%B5%D0%BC_%D0%BF%D0%B0%D0%B9%D0%BF%D0%BB%D0%B0%D0%B9%D0%BD_%D1%81_%D0%BD%D1%83%D0%BB%D1%8F.ipynb\" target=\"_parent\"><img src=\"https://colab.research.google.com/assets/colab-badge.svg\" alt=\"Open In Colab\"/></a>"
      ]
    },
    {
      "cell_type": "markdown",
      "metadata": {
        "id": "nVzezFyuJLJo"
      },
      "source": [
        "### Скрипт для решения задачи автоматизации отчетности"
      ]
    },
    {
      "cell_type": "code",
      "metadata": {
        "id": "pRh_1ragFP6Z"
      },
      "source": [
        "import pandas as pd\n",
        "import sqlite3\n",
        "\n",
        "CON = sqlite3.connect('example.db')"
      ],
      "execution_count": 8,
      "outputs": []
    },
    {
      "cell_type": "code",
      "metadata": {
        "id": "8N4hM6f-FSNI"
      },
      "source": [
        "# Выгрузка данных с сайта\n",
        "def extract_data(url):\n",
        "    \"\"\" Extract CSV\n",
        "    \"\"\"\n",
        "    return pd.read_csv(url)\n",
        "\n",
        "# Группировка данных\n",
        "def transform_data(data, group, agreg):\n",
        "    \"\"\" Group by data\n",
        "    \"\"\"\n",
        "    return data.groupby(group).agg(agreg).reset_index()\n",
        "\n",
        "# Загрузка в базу данных\n",
        "def load_data(data, table_name, conn=CON):\n",
        "    \"\"\" Load to DB\n",
        "    \"\"\"\n",
        "    data[\"insert_time\"] = pd.to_datetime(\"now\")\n",
        "    data.to_sql(table_name, conn, if_exists='replace', index=False)\n",
        "\n",
        "# Отправка данных на почту\n",
        "def send_email(data, cred, host, port, to, From):\n",
        "    \"\"\" Send to email\n",
        "    \"\"\" \n",
        "    _send_email(data=data, cred=cred, host=host, to=to, From=From, port=port)"
      ],
      "execution_count": 9,
      "outputs": []
    },
    {
      "cell_type": "code",
      "metadata": {
        "id": "99TXS3pLFVk6"
      },
      "source": [
        "from email.mime.text import MIMEText\n",
        "from email.mime.multipart import MIMEMultipart\n",
        "import smtplib\n",
        "\n",
        "HOST = \"smtp.yandex.ru\"\n",
        "TO = \"rabacc2022@yandex.ru\"\n",
        "FROM = \"rabacc2022@yandex.ru\"\n",
        "\n",
        "\n",
        "def html_pretty(df):\n",
        "    \"\"\" Pretty html dataframe\n",
        "    \"\"\"\n",
        "    return \"\"\"\\\n",
        "    <html>\n",
        "      <head></head>\n",
        "      <body>\n",
        "        {0}\n",
        "      </body>\n",
        "    </html>\n",
        "    \"\"\".format(df.to_html())\n",
        "\n",
        "def _send_email(data, cred, host, port, to, From):\n",
        "    \"\"\" Send DF to email\n",
        "    \"\"\"\n",
        "\n",
        "    msg = MIMEMultipart()\n",
        "    part = MIMEText(html_pretty(data), 'html')\n",
        "    msg.attach(part)\n",
        "\n",
        "    server = smtplib.SMTP(host, port)\n",
        "    server.starttls()\n",
        "    server.login(cred[0], cred[1])\n",
        "    server.sendmail(From, to, msg.as_string())\n",
        "    server.quit()"
      ],
      "execution_count": null,
      "outputs": []
    },
    {
      "cell_type": "code",
      "metadata": {
        "id": "x6gpJgqLGWff"
      },
      "source": [
        "# Extract\n",
        "data = extract_data(\"https://raw.githubusercontent.com/dm-novikov/stepik_airflow_course/main/data/data.csv\")"
      ],
      "execution_count": null,
      "outputs": []
    },
    {
      "cell_type": "code",
      "metadata": {
        "id": "2zVMMN8IGdMy"
      },
      "source": [
        "# Transform\n",
        "data = transform_data(data, group=['A', 'B', 'C'], agreg={\"D\": sum})"
      ],
      "execution_count": null,
      "outputs": []
    },
    {
      "cell_type": "code",
      "metadata": {
        "id": "hNSY9AGtGg7n"
      },
      "source": [
        "# Load to DB\n",
        "load_data(data, \"table\")"
      ],
      "execution_count": null,
      "outputs": []
    },
    {
      "cell_type": "code",
      "metadata": {
        "id": "QvwsNTFzGoou"
      },
      "source": [
        "# Send Email\n",
        "send_email(data, cred=(\"rabacc2022\", \"Karim789-\"), host=HOST, port=587, to=TO, From=FROM)"
      ],
      "execution_count": null,
      "outputs": []
    }
  ]
}