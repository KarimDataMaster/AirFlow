{
 "cells": [
  {
   "cell_type": "markdown",
   "id": "b2aee25d",
   "metadata": {},
   "source": [
    "Astronomer - крайне рекомендую читать их документацию, а также пройти их курсы https://www.astronomer.io/\n",
    "Docker для Data Science - Глеб создал один из лучших курсов для старта работы с докером https://www.youtube.com/playlist?list=PLQJ7ptkRY-xbR0ka2TUxJkXna40XWu92m\n",
    "Курс по Airflow от Адиля Хаштамова - на русском языке! https://khashtamov.com/ru/apache-airflow-course/\n",
    "Полезный ресурс по Data Engineering для начинающих https://www.youtube.com/channel/UCWki7GBUE5lDMJCbn4e1XMg\n",
    "Курс по ООП (без него не получится) https://www.youtube.com/playlist?list=PLA0M1Bcd0w8zo9ND-7yEFjoHBg_fzaQ-B\n",
    "Курсы о дата инженерии, аналитике и науке о данных https://startdatajourney.com/ru/\n",
    "Apache Airflow 2.2: практический курс https://startdatajourney.com/ru/course/apache-airflow-2?utm_source=blog&utm_medium=post&utm_campaign=apache-airflow-course"
   ]
  },
  {
   "cell_type": "markdown",
   "id": "08b82d3c",
   "metadata": {},
   "source": [
    "ELT (DWH – ClickHouse, PostgreSQL) & ETL (Data Lake-AWS, HDFS, Google Cloud Storage)"
   ]
  },
  {
   "cell_type": "markdown",
   "id": "1ba0a02a",
   "metadata": {},
   "source": [
    "DAG - ориентированный ациклический граф\n",
    "-отсутствие циклов\n",
    "-каждый узел имеет направление\n",
    "-возможность параллельных шагов\n",
    "-конечность действий"
   ]
  },
  {
   "cell_type": "raw",
   "id": "5e6f7216",
   "metadata": {},
   "source": [
    "Рекомендации по коду\n",
    "1) Декларативность\n",
    "2) Идемпотентность"
   ]
  },
  {
   "cell_type": "markdown",
   "id": "d2e5c562",
   "metadata": {},
   "source": [
    "2.2 Введение в ETL. Текст и задачи"
   ]
  },
  {
   "cell_type": "code",
   "execution_count": null,
   "id": "ef25615d",
   "metadata": {},
   "outputs": [],
   "source": [
    "import pandas as pd\n",
    "import sqlite3\n",
    "\n",
    "CON = sqlite3.connect('example.db')"
   ]
  },
  {
   "cell_type": "code",
   "execution_count": null,
   "id": "e8da3db5",
   "metadata": {},
   "outputs": [],
   "source": [
    "# Выгрузка данных с сайта\n",
    "def extract_data(url):\n",
    "    \"\"\" Extract CSV\n",
    "    \"\"\"\n",
    "    return pd.read_csv(url)\n",
    "\n",
    "# Группировка данных\n",
    "def transform_data(data, group, agreg):\n",
    "    \"\"\" Group by data\n",
    "    \"\"\"\n",
    "    return data.groupby(group).agg(agreg).reset_index()\n",
    "\n",
    "# Загрузка в базу данных\n",
    "def load_data(data, table_name, conn=CON):\n",
    "    \"\"\" Load to DB\n",
    "    \"\"\"\n",
    "    data[\"insert_time\"] = pd.to_datetime(\"now\")\n",
    "    data.to_sql(table_name, conn, if_exists='replace', index=False)\n",
    "\n",
    "# Отправка данных на почту\n",
    "def send_email(data, cred, host, port, to, From):\n",
    "    \"\"\" Send to email\n",
    "    \"\"\" \n",
    "    _send_email(data=data, cred=cred, host=host, to=to, From=From, port=port)"
   ]
  },
  {
   "cell_type": "code",
   "execution_count": null,
   "id": "6d7d419b",
   "metadata": {},
   "outputs": [],
   "source": [
    "from email.mime.text import MIMEText\n",
    "from email.mime.multipart import MIMEMultipart\n",
    "import smtplib\n",
    "\n",
    "HOST = \"smtp.yandex.ru\"\n",
    "TO = \"stepikairflowcourse@yandex.ru\"\n",
    "FROM = \"stepikairflowcourse@yandex.ru\"\n",
    "\n",
    "\n",
    "def html_pretty(df):\n",
    "    \"\"\" Pretty html dataframe\n",
    "    \"\"\"\n",
    "    return \"\"\"\\\n",
    "    <html>\n",
    "      <head></head>\n",
    "      <body>\n",
    "        {0}\n",
    "      </body>\n",
    "    </html>\n",
    "    \"\"\".format(df.to_html())\n",
    "\n",
    "def _send_email(data, cred, host, port, to, From):\n",
    "    \"\"\" Send DF to email\n",
    "    \"\"\"\n",
    "\n",
    "    msg = MIMEMultipart()\n",
    "    part = MIMEText(html_pretty(data), 'html')\n",
    "    msg.attach(part)\n",
    "\n",
    "    server = smtplib.SMTP(host, port)\n",
    "    server.starttls()\n",
    "    server.login(cred[0], cred[1])\n",
    "    server.sendmail(From, to, msg.as_string())\n",
    "    server.quit()"
   ]
  },
  {
   "cell_type": "code",
   "execution_count": null,
   "id": "44d84a83",
   "metadata": {},
   "outputs": [],
   "source": [
    "# Extract\n",
    "data = extract_data(\"https://raw.githubusercontent.com/dm-novikov/stepik_airflow_course/main/data/data.csv\")"
   ]
  },
  {
   "cell_type": "code",
   "execution_count": null,
   "id": "7a9acb3d",
   "metadata": {},
   "outputs": [],
   "source": [
    "# Transform\n",
    "data = transform_data(data, group=['A', 'B', 'C'], agreg={\"D\": sum})"
   ]
  },
  {
   "cell_type": "code",
   "execution_count": null,
   "id": "e0e053f7",
   "metadata": {},
   "outputs": [],
   "source": [
    "# Load to DB\n",
    "load_data(data, \"table\")"
   ]
  },
  {
   "cell_type": "code",
   "execution_count": null,
   "id": "b1f17924",
   "metadata": {},
   "outputs": [],
   "source": [
    "# Send Email\n",
    "send_email(data, cred=(\"stepikairflowcourse\", \"123456aA-\"), host=HOST, port=587, to=TO, From=FROM)"
   ]
  },
  {
   "cell_type": "code",
   "execution_count": null,
   "id": "11d73613",
   "metadata": {},
   "outputs": [],
   "source": [
    "Почта: stepikairflowcourse@yandex.ru\n",
    "Пароль: 123456aA-"
   ]
  },
  {
   "cell_type": "markdown",
   "id": "4b7f74a4",
   "metadata": {},
   "source": [
    "CRON - утилита запуска скриптов на Linuxm"
   ]
  },
  {
   "cell_type": "markdown",
   "id": "f57b327f",
   "metadata": {},
   "source": [
    "Введите CRON выражение для настройки запуска нашего пайплайна каждый будний день в 10 часов утра 30 минут. От вас требуется только CRON выражение."
   ]
  },
  {
   "cell_type": "markdown",
   "id": "028a16b6",
   "metadata": {},
   "source": [
    "30 10 * * 1-5"
   ]
  },
  {
   "cell_type": "markdown",
   "id": "3b2a072f",
   "metadata": {},
   "source": [
    "Введите CRON выражение для настройки запуска нашего пайплайна каждый выходной в 10 часов утра каждый четвертый месяц начиная с января. От вас требуется только CRON выражение."
   ]
  },
  {
   "cell_type": "markdown",
   "id": "ae091c69",
   "metadata": {},
   "source": [
    "https://crontab.guru/#0_10_*_1/4_6,0"
   ]
  },
  {
   "cell_type": "markdown",
   "id": "d239d67c",
   "metadata": {},
   "source": [
    "0 10 * 1/4 6,0"
   ]
  },
  {
   "cell_type": "markdown",
   "id": "e0c2c151",
   "metadata": {},
   "source": [
    "Видео по внедрение ETL в компании https://www.youtube.com/watch?v=db3fDP2V5zU\n",
    "Введение в Airflow от Big Data School https://www.youtube.com/watch?v=OvwNEpgqYHo"
   ]
  },
  {
   "cell_type": "markdown",
   "id": "689843f9",
   "metadata": {},
   "source": [
    "Школа больших данных"
   ]
  },
  {
   "cell_type": "markdown",
   "id": "2419c8dc",
   "metadata": {},
   "source": [
    "Big Data от А до Я. Часть 1: Принципы работы с большими данными, парадигма MapReduce https://habr.com/ru/post/267361/"
   ]
  },
  {
   "cell_type": "markdown",
   "id": "65386bea",
   "metadata": {},
   "source": [
    "AWS Data Engineering Tutorial for Beginners [FULL COURSE in 90 mins] https://www.youtube.com/watch?v=ckQ7d6ca2J0"
   ]
  },
  {
   "cell_type": "markdown",
   "id": "2cc818ea",
   "metadata": {},
   "source": [
    "Отличные видеоуроки о том что такое ETL/ELT https://www.youtube.com/watch?v=3IRU-E_BnYc&list=PLkcP_moW_BpNgbIdIeiUDR01vxmuSpY-L&index=3"
   ]
  },
  {
   "cell_type": "markdown",
   "id": "ccbb60cf",
   "metadata": {},
   "source": [
    "Обзор того что такое DWH и Data Lake https://www.youtube.com/watch?v=pRiRpOg64-4"
   ]
  },
  {
   "cell_type": "markdown",
   "id": "31ecb394",
   "metadata": {},
   "source": [
    "datalearn.ru БЕСПЛАТНЫЕ КУРСЫ ДЛЯ ДАТА-ИНЖЕНЕРОВ и ДАТА-САЙЕНТИСТОВ"
   ]
  },
  {
   "cell_type": "code",
   "execution_count": null,
   "id": "6769cc7f",
   "metadata": {},
   "outputs": [],
   "source": []
  },
  {
   "cell_type": "code",
   "execution_count": null,
   "id": "2e6c1881",
   "metadata": {},
   "outputs": [],
   "source": []
  },
  {
   "cell_type": "code",
   "execution_count": null,
   "id": "e192ba05",
   "metadata": {},
   "outputs": [],
   "source": []
  },
  {
   "cell_type": "code",
   "execution_count": null,
   "id": "6daf2217",
   "metadata": {},
   "outputs": [],
   "source": []
  },
  {
   "cell_type": "code",
   "execution_count": null,
   "id": "2941d9ec",
   "metadata": {},
   "outputs": [],
   "source": []
  },
  {
   "cell_type": "code",
   "execution_count": null,
   "id": "fcfad364",
   "metadata": {},
   "outputs": [],
   "source": []
  },
  {
   "cell_type": "code",
   "execution_count": null,
   "id": "bf975d63",
   "metadata": {},
   "outputs": [],
   "source": []
  },
  {
   "cell_type": "code",
   "execution_count": null,
   "id": "2919c65b",
   "metadata": {},
   "outputs": [],
   "source": []
  },
  {
   "cell_type": "code",
   "execution_count": null,
   "id": "db095265",
   "metadata": {},
   "outputs": [],
   "source": []
  },
  {
   "cell_type": "code",
   "execution_count": null,
   "id": "2a49f17d",
   "metadata": {},
   "outputs": [],
   "source": []
  },
  {
   "cell_type": "code",
   "execution_count": null,
   "id": "02b7eb5b",
   "metadata": {},
   "outputs": [],
   "source": []
  },
  {
   "cell_type": "code",
   "execution_count": null,
   "id": "85841266",
   "metadata": {},
   "outputs": [],
   "source": []
  },
  {
   "cell_type": "code",
   "execution_count": null,
   "id": "de442f42",
   "metadata": {},
   "outputs": [],
   "source": []
  }
 ],
 "metadata": {
  "kernelspec": {
   "display_name": "Python 3 (ipykernel)",
   "language": "python",
   "name": "python3"
  },
  "language_info": {
   "codemirror_mode": {
    "name": "ipython",
    "version": 3
   },
   "file_extension": ".py",
   "mimetype": "text/x-python",
   "name": "python",
   "nbconvert_exporter": "python",
   "pygments_lexer": "ipython3",
   "version": "3.9.7"
  }
 },
 "nbformat": 4,
 "nbformat_minor": 5
}
