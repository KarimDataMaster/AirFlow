{
 "cells": [
  {
   "cell_type": "markdown",
   "id": "005e58ef",
   "metadata": {},
   "source": [
    "Astronomer - крайне рекомендую читать их документацию, а также пройти их курсы https://www.astronomer.io/\n",
    "Docker для Data Science - Глеб создал один из лучших курсов для старта работы с докером https://www.youtube.com/playlist?list=PLQJ7ptkRY-xbR0ka2TUxJkXna40XWu92m\n",
    "Курс по Airflow от Адиля Хаштамова - на русском языке! https://khashtamov.com/ru/apache-airflow-course/\n",
    "Полезный ресурс по Data Engineering для начинающих https://www.youtube.com/channel/UCWki7GBUE5lDMJCbn4e1XMg\n",
    "Курс по ООП (без него не получится) https://www.youtube.com/playlist?list=PLA0M1Bcd0w8zo9ND-7yEFjoHBg_fzaQ-B\n",
    "Курсы о дата инженерии, аналитике и науке о данных https://startdatajourney.com/ru/\n",
    "Apache Airflow 2.2: практический курс https://startdatajourney.com/ru/course/apache-airflow-2?utm_source=blog&utm_medium=post&utm_campaign=apache-airflow-course"
   ]
  },
  {
   "cell_type": "markdown",
   "id": "5ccb3cbc",
   "metadata": {},
   "source": [
    "ELT (DWH – ClickHouse, PostgreSQL) & ETL (Data Lake-AWS, HDFS, Google Cloud Storage)"
   ]
  },
  {
   "cell_type": "markdown",
   "id": "0a6710cd",
   "metadata": {},
   "source": [
    "DAG - ориентированный ациклический граф\n",
    "-отсутствие циклов\n",
    "-каждый узел имеет направление\n",
    "-возможность параллельных шагов\n",
    "-конечность действий"
   ]
  },
  {
   "cell_type": "raw",
   "id": "19c611d8",
   "metadata": {},
   "source": [
    "Рекомендации по коду\n",
    "1) Декларативность\n",
    "2) Идемпотентность"
   ]
  },
  {
   "cell_type": "markdown",
   "id": "29a65b14",
   "metadata": {},
   "source": [
    "2.2 Введение в ETL. Текст и задачи"
   ]
  },
  {
   "cell_type": "code",
   "execution_count": null,
   "id": "fe7cbb90",
   "metadata": {},
   "outputs": [],
   "source": [
    "import pandas as pd\n",
    "import sqlite3\n",
    "\n",
    "CON = sqlite3.connect('example.db')"
   ]
  },
  {
   "cell_type": "code",
   "execution_count": null,
   "id": "ef8b343e",
   "metadata": {},
   "outputs": [],
   "source": [
    "# Выгрузка данных с сайта\n",
    "def extract_data(url):\n",
    "    \"\"\" Extract CSV\n",
    "    \"\"\"\n",
    "    return pd.read_csv(url)\n",
    "\n",
    "# Группировка данных\n",
    "def transform_data(data, group, agreg):\n",
    "    \"\"\" Group by data\n",
    "    \"\"\"\n",
    "    return data.groupby(group).agg(agreg).reset_index()\n",
    "\n",
    "# Загрузка в базу данных\n",
    "def load_data(data, table_name, conn=CON):\n",
    "    \"\"\" Load to DB\n",
    "    \"\"\"\n",
    "    data[\"insert_time\"] = pd.to_datetime(\"now\")\n",
    "    data.to_sql(table_name, conn, if_exists='replace', index=False)\n",
    "\n",
    "# Отправка данных на почту\n",
    "def send_email(data, cred, host, port, to, From):\n",
    "    \"\"\" Send to email\n",
    "    \"\"\" \n",
    "    _send_email(data=data, cred=cred, host=host, to=to, From=From, port=port)"
   ]
  },
  {
   "cell_type": "code",
   "execution_count": null,
   "id": "c9f06ddb",
   "metadata": {},
   "outputs": [],
   "source": [
    "from email.mime.text import MIMEText\n",
    "from email.mime.multipart import MIMEMultipart\n",
    "import smtplib\n",
    "\n",
    "HOST = \"smtp.yandex.ru\"\n",
    "TO = \"stepikairflowcourse@yandex.ru\"\n",
    "FROM = \"stepikairflowcourse@yandex.ru\"\n",
    "\n",
    "\n",
    "def html_pretty(df):\n",
    "    \"\"\" Pretty html dataframe\n",
    "    \"\"\"\n",
    "    return \"\"\"\\\n",
    "    <html>\n",
    "      <head></head>\n",
    "      <body>\n",
    "        {0}\n",
    "      </body>\n",
    "    </html>\n",
    "    \"\"\".format(df.to_html())\n",
    "\n",
    "def _send_email(data, cred, host, port, to, From):\n",
    "    \"\"\" Send DF to email\n",
    "    \"\"\"\n",
    "\n",
    "    msg = MIMEMultipart()\n",
    "    part = MIMEText(html_pretty(data), 'html')\n",
    "    msg.attach(part)\n",
    "\n",
    "    server = smtplib.SMTP(host, port)\n",
    "    server.starttls()\n",
    "    server.login(cred[0], cred[1])\n",
    "    server.sendmail(From, to, msg.as_string())\n",
    "    server.quit()"
   ]
  },
  {
   "cell_type": "code",
   "execution_count": null,
   "id": "96750854",
   "metadata": {},
   "outputs": [],
   "source": [
    "# Extract\n",
    "data = extract_data(\"https://raw.githubusercontent.com/dm-novikov/stepik_airflow_course/main/data/data.csv\")"
   ]
  },
  {
   "cell_type": "code",
   "execution_count": null,
   "id": "70b97737",
   "metadata": {},
   "outputs": [],
   "source": [
    "# Transform\n",
    "data = transform_data(data, group=['A', 'B', 'C'], agreg={\"D\": sum})"
   ]
  },
  {
   "cell_type": "code",
   "execution_count": null,
   "id": "83e4223b",
   "metadata": {},
   "outputs": [],
   "source": [
    "# Load to DB\n",
    "load_data(data, \"table\")"
   ]
  },
  {
   "cell_type": "code",
   "execution_count": null,
   "id": "da44b8bd",
   "metadata": {},
   "outputs": [],
   "source": [
    "# Send Email\n",
    "send_email(data, cred=(\"stepikairflowcourse\", \"123456aA-\"), host=HOST, port=587, to=TO, From=FROM)"
   ]
  },
  {
   "cell_type": "code",
   "execution_count": null,
   "id": "ad1dddf6",
   "metadata": {},
   "outputs": [],
   "source": [
    "Почта: stepikairflowcourse@yandex.ru\n",
    "Пароль: 123456aA-"
   ]
  },
  {
   "cell_type": "markdown",
   "id": "a68db030",
   "metadata": {},
   "source": [
    "CRON - утилита запуска скриптов на Linuxm"
   ]
  },
  {
   "cell_type": "markdown",
   "id": "800920b2",
   "metadata": {},
   "source": [
    "Введите CRON выражение для настройки запуска нашего пайплайна каждый будний день в 10 часов утра 30 минут. От вас требуется только CRON выражение."
   ]
  },
  {
   "cell_type": "markdown",
   "id": "a188ca23",
   "metadata": {},
   "source": [
    "30 10 * * 1-5"
   ]
  },
  {
   "cell_type": "markdown",
   "id": "0a474c1a",
   "metadata": {},
   "source": [
    "Введите CRON выражение для настройки запуска нашего пайплайна каждый выходной в 10 часов утра каждый четвертый месяц начиная с января. От вас требуется только CRON выражение."
   ]
  },
  {
   "cell_type": "markdown",
   "id": "e18a97c8",
   "metadata": {},
   "source": [
    "https://crontab.guru/#0_10_*_1/4_6,0"
   ]
  },
  {
   "cell_type": "markdown",
   "id": "08f1c341",
   "metadata": {},
   "source": [
    "0 10 * 1/4 6,0"
   ]
  },
  {
   "cell_type": "markdown",
   "id": "70afa65d",
   "metadata": {},
   "source": [
    "Видео по внедрение ETL в компании https://www.youtube.com/watch?v=db3fDP2V5zU\n",
    "Введение в Airflow от Big Data School https://www.youtube.com/watch?v=OvwNEpgqYHo"
   ]
  },
  {
   "cell_type": "markdown",
   "id": "7b39415c",
   "metadata": {},
   "source": [
    "Школа больших данных"
   ]
  },
  {
   "cell_type": "markdown",
   "id": "90a06ef1",
   "metadata": {},
   "source": [
    "Big Data от А до Я. Часть 1: Принципы работы с большими данными, парадигма MapReduce https://habr.com/ru/post/267361/"
   ]
  },
  {
   "cell_type": "markdown",
   "id": "f641a822",
   "metadata": {},
   "source": [
    "AWS Data Engineering Tutorial for Beginners [FULL COURSE in 90 mins] https://www.youtube.com/watch?v=ckQ7d6ca2J0"
   ]
  },
  {
   "cell_type": "markdown",
   "id": "39c55723",
   "metadata": {},
   "source": [
    "Отличные видеоуроки о том что такое ETL/ELT https://www.youtube.com/watch?v=3IRU-E_BnYc&list=PLkcP_moW_BpNgbIdIeiUDR01vxmuSpY-L&index=3"
   ]
  },
  {
   "cell_type": "markdown",
   "id": "284041d0",
   "metadata": {},
   "source": [
    "Обзор того что такое DWH и Data Lake https://www.youtube.com/watch?v=pRiRpOg64-4"
   ]
  },
  {
   "cell_type": "markdown",
   "id": "41fd35de",
   "metadata": {},
   "source": [
    "datalearn.ru БЕСПЛАТНЫЕ КУРСЫ ДЛЯ ДАТА-ИНЖЕНЕРОВ и ДАТА-САЙЕНТИСТОВ"
   ]
  },
  {
   "cell_type": "markdown",
   "id": "610078e4",
   "metadata": {},
   "source": [
    "Skillbox, Нетология, GeekBrains, SkillFactory, Udemy, Яндекс.Практикум, Stepik, Otus, Coursera, EDX, ConvertMonster"
   ]
  },
  {
   "cell_type": "markdown",
   "id": "bfadc8af",
   "metadata": {},
   "source": [
    "Статья про идемпотентность https://habr.com/ru/company/yandex/blog/442762/ https://ru.hexlet.io/blog/posts/pochemu-vazhna-idempotentnost-i-kak-pisat-idempotentnye-bash-skripty"
   ]
  },
  {
   "cell_type": "code",
   "execution_count": 1,
   "id": "95c05cb6",
   "metadata": {},
   "outputs": [],
   "source": [
    "# Импорт необходимых библиотек\n",
    "import sqlite3 as sl #импорт модуля sqlite для создания базы данных\n",
    "import requests #импорт модуля для доступа к веб-сайту\n",
    "import pandas as pd #импорт pandas для работы с табличными данными\n",
    "imp"
   ]
  },
  {
   "cell_type": "code",
   "execution_count": 4,
   "id": "8913fe0a",
   "metadata": {},
   "outputs": [],
   "source": [
    "def extract_currency(date):\n",
    "    url = f'https://api.exchangerate.host/timeseries?start_date={date}&end_date={date}&base=EUR&symbols=USD&format=csv'\n",
    "    response = requests.get(url)\n",
    "    print(response)"
   ]
  },
  {
   "cell_type": "code",
   "execution_count": 6,
   "id": "3e89a030",
   "metadata": {},
   "outputs": [
    {
     "name": "stdout",
     "output_type": "stream",
     "text": [
      "<Response [200]>\n"
     ]
    }
   ],
   "source": [
    "a = extract_currency('2020-01-01')"
   ]
  },
  {
   "cell_type": "code",
   "execution_count": 7,
   "id": "1ba4f7d6",
   "metadata": {},
   "outputs": [
    {
     "name": "stdout",
     "output_type": "stream",
     "text": [
      "Requirement already satisfied: sqlalchemy in c:\\users\\asus\\anaconda3\\lib\\site-packages (1.4.22)\n",
      "Requirement already satisfied: greenlet!=0.4.17 in c:\\users\\asus\\anaconda3\\lib\\site-packages (from sqlalchemy) (1.1.1)\n",
      "Note: you may need to restart the kernel to use updated packages.\n"
     ]
    }
   ],
   "source": [
    "pip install sqlalchemy"
   ]
  },
  {
   "cell_type": "code",
   "execution_count": 8,
   "id": "26067ad9",
   "metadata": {},
   "outputs": [
    {
     "name": "stdout",
     "output_type": "stream",
     "text": [
      "Requirement already satisfied: pyodbc in c:\\users\\asus\\anaconda3\\lib\\site-packages (4.0.0-unsupported)\n",
      "Note: you may need to restart the kernel to use updated packages.\n"
     ]
    }
   ],
   "source": [
    "pip install pyodbc"
   ]
  },
  {
   "cell_type": "code",
   "execution_count": null,
   "id": "d29e90d6",
   "metadata": {},
   "outputs": [],
   "source": []
  },
  {
   "cell_type": "code",
   "execution_count": null,
   "id": "ac69f2bc",
   "metadata": {},
   "outputs": [],
   "source": []
  },
  {
   "cell_type": "code",
   "execution_count": null,
   "id": "f7173d7a",
   "metadata": {},
   "outputs": [],
   "source": []
  },
  {
   "cell_type": "code",
   "execution_count": null,
   "id": "b476fdac",
   "metadata": {},
   "outputs": [],
   "source": []
  },
  {
   "cell_type": "code",
   "execution_count": null,
   "id": "a2996b06",
   "metadata": {},
   "outputs": [],
   "source": []
  },
  {
   "cell_type": "code",
   "execution_count": null,
   "id": "0609ce5d",
   "metadata": {},
   "outputs": [],
   "source": []
  }
 ],
 "metadata": {
  "kernelspec": {
   "display_name": "Python 3 (ipykernel)",
   "language": "python",
   "name": "python3"
  },
  "language_info": {
   "codemirror_mode": {
    "name": "ipython",
    "version": 3
   },
   "file_extension": ".py",
   "mimetype": "text/x-python",
   "name": "python",
   "nbconvert_exporter": "python",
   "pygments_lexer": "ipython3",
   "version": "3.9.7"
  }
 },
 "nbformat": 4,
 "nbformat_minor": 5
}
